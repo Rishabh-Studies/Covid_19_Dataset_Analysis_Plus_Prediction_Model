{
 "cells": [
  {
   "attachments": {},
   "cell_type": "markdown",
   "metadata": {},
   "source": [
    "# PACKAGES TO BE USED"
   ]
  },
  {
   "cell_type": "code",
   "execution_count": null,
   "metadata": {},
   "outputs": [],
   "source": [
    "import pandas as pd #package object\n",
    "import numpy as np #package object\n",
    "import matplotlib.pyplot as plt #package object\n",
    "#import seaborn as sns #package object"
   ]
  },
  {
   "attachments": {},
   "cell_type": "markdown",
   "metadata": {},
   "source": [
    "# DATASET INFORMATION"
   ]
  },
  {
   "attachments": {},
   "cell_type": "markdown",
   "metadata": {},
   "source": [
    "**Dataset contains 21 unique attributes and 1,048,576 records. 1 means \"Yes\" and 2 means \"No\".**"
   ]
  },
  {
   "attachments": {},
   "cell_type": "markdown",
   "metadata": {},
   "source": [
    "## *Attributes of the Dataset*\n"
   ]
  },
  {
   "attachments": {},
   "cell_type": "markdown",
   "metadata": {},
   "source": [
    "sex: female or male \n",
    "\n",
    "    Value 1 -> Female\n",
    "\n",
    "    Value 2 -> Male\n",
    "\n",
    "age: refers to patient/subject.\n",
    "\n",
    "classification: covid test\n",
    "\n",
    "    Values 1-3 -> the patient was diagnosed with covid in different degrees. \n",
    "\n",
    "    Values>=4 -> patient is not a carrier of covid or that the test is inconclusive.\n",
    "\n",
    "patient type: hospitalized or not hospitalized.\n",
    "\n",
    "pneumonia: presence of air sacs inflammation.\n",
    "\n",
    "pregnancy: whether the patient is pregnant or not.\n",
    "\n",
    "diabetes: presence of diabetes.\n",
    "\n",
    "copd: presence of Chronic obstructive pulmonary disease.\n",
    "\n",
    "asthma: presence of asthma.\n",
    "\n",
    "inmsupr: whether the patient is immunosuppressed or not.\n",
    "\n",
    "hypertension: presence of hypertension.\n",
    "\n",
    "cardiovascular: presence of heart or blood vessels related disease.\n",
    "\n",
    "renal chronic: presence of chronic renal disease.\n",
    "\n",
    "other disease: presence of other disease.\n",
    "\n",
    "obesity: whether the patient is obese or not.\n",
    "\n",
    "tobacco: whether the patient is a tobacco user.\n",
    "\n",
    "usmr: Indicates whether the patient treated medical units of the first, second or third level.\n",
    "\n",
    "medical unit: type of institution of the National Health System that provided the care.\n",
    "\n",
    "intubed: whether the patient was connected to the ventilator.\n",
    "\n",
    "icu: Indicates whether the patient had been admitted to an Intensive Care Unit.\n",
    "\n",
    "death: indicates whether the patient died or recovered."
   ]
  },
  {
   "attachments": {},
   "cell_type": "markdown",
   "metadata": {},
   "source": [
    "## *Overview of Dataset*"
   ]
  },
  {
   "cell_type": "code",
   "execution_count": null,
   "metadata": {},
   "outputs": [],
   "source": [
    "#Dataframe made using pandas' object\n",
    "df= pd.read_csv(r\"C:\\Users\\ideapad\\Desktop\\Python Programs\\Meta_data_BootCamp_Project\\Dataset\\Covid_Original_Dataset.csv\") #Path of dataset stored in the System\n",
    "print(\"Dimensions of Dataset:\",df.shape)\n",
    "df.head(5)"
   ]
  },
  {
   "cell_type": "code",
   "execution_count": null,
   "metadata": {},
   "outputs": [],
   "source": [
    "#checking null values and datatype of each attribute\n",
    "df.info()"
   ]
  },
  {
   "cell_type": "code",
   "execution_count": null,
   "metadata": {},
   "outputs": [],
   "source": [
    "#checking NA or Empty values in the Dataset\n",
    "df.isna().sum().sum() \n",
    "'''\n",
    "isna()-checks each record for NA values. Gives true if found, else false.\n",
    "1st sum()- Sum of NA values for each Attribute.\n",
    "2nd sum()- Total NA values.\n",
    "'''"
   ]
  },
  {
   "attachments": {},
   "cell_type": "markdown",
   "metadata": {},
   "source": [
    "Since the output of above code comes out to be 0. No NA values are present. \n",
    "\n",
    "But there are missing values which have been inputed as 97 or 99.\n",
    "\n",
    "As for missing DATE_DIED, its been inputed as 9999-99-99."
   ]
  },
  {
   "cell_type": "code",
   "execution_count": null,
   "metadata": {},
   "outputs": [],
   "source": [
    "#Checking for Unique values. Most attributes must have only 2 unique values i.e., 1 and 2.\n",
    "for i in df.columns:\n",
    "    print(i,\"=> \",len(df[i].unique()))"
   ]
  },
  {
   "cell_type": "code",
   "execution_count": null,
   "metadata": {},
   "outputs": [],
   "source": [
    "df.ASTHMA.value_counts()"
   ]
  },
  {
   "cell_type": "code",
   "execution_count": null,
   "metadata": {},
   "outputs": [],
   "source": [
    "#Checking for the count of different values in DATE_DIED\n",
    "df.DATE_DIED.value_counts()"
   ]
  },
  {
   "attachments": {},
   "cell_type": "markdown",
   "metadata": {},
   "source": [
    "## *Conclusion*\n",
    "1) Attributes which should have only 2 values (1,2) have more unique values. This can be seen in Attribute ASTHMA. As already mentioned- 97 and 98 represent NA values. Thus, such records need to be discarded.\n",
    "3) In DATE_DIED, \"9999-99-99\" represent NA values. It can be interpreted that these values are missing because these patients/subjects are ALIVE. Thus, this attribute can be updated used to check for DEATH. If patient is alive, value will be 2, otherwise 1."
   ]
  },
  {
   "attachments": {},
   "cell_type": "markdown",
   "metadata": {},
   "source": [
    "# DATA PREPROCESSING\n",
    "There are missing values in PREGANCY. But after manually looking at some records, the values are missing for only Males. To verify this:"
   ]
  },
  {
   "cell_type": "code",
   "execution_count": null,
   "metadata": {},
   "outputs": [],
   "source": [
    "df.SEX.value_counts()[2] #Number of males"
   ]
  },
  {
   "cell_type": "code",
   "execution_count": null,
   "metadata": {},
   "outputs": [],
   "source": [
    "df.PREGNANT.value_counts() "
   ]
  },
  {
   "attachments": {},
   "cell_type": "markdown",
   "metadata": {},
   "source": [
    "It can be deduced that 97 in attribute PREGNANT refers to the value of males. To verify this further:"
   ]
  },
  {
   "cell_type": "code",
   "execution_count": null,
   "metadata": {},
   "outputs": [],
   "source": [
    "df[(df.PREGNANT == 97) & (df.SEX == 2)].shape[0] #Number of records where PREGNANT is missing and SEX is MALE"
   ]
  },
  {
   "attachments": {},
   "cell_type": "markdown",
   "metadata": {},
   "source": [
    "Thus, the value 97 is inserted for only SEX=MALE in PREGNANT.\n",
    "\n",
    "Hence, placing correct values for this."
   ]
  },
  {
   "cell_type": "code",
   "execution_count": null,
   "metadata": {},
   "outputs": [],
   "source": [
    "df.PREGNANT=df.PREGNANT.replace(97,2)"
   ]
  },
  {
   "attachments": {},
   "cell_type": "markdown",
   "metadata": {},
   "source": [
    "## *CLEANING THE DATASET*"
   ]
  },
  {
   "attachments": {},
   "cell_type": "markdown",
   "metadata": {},
   "source": [
    "### *Value Analysis of INTUBED Attribute*"
   ]
  },
  {
   "cell_type": "code",
   "execution_count": null,
   "metadata": {},
   "outputs": [],
   "source": [
    "names=df.INTUBED.unique() #array of values in Attribute\n",
    "length=len(names)\n",
    "value=[]\n",
    "for i in range(length):\n",
    "    temp=df[df.INTUBED==names[i]].shape[0]\n",
    "    value.append(temp) #Storing occurance of each value belonging to INTUBED\n",
    "plt.figure(figsize=(12, 3)) #Dimensions of the graph\n",
    "plt.bar(names,value)\n",
    "plt.xlabel(\"Values used\")\n",
    "plt.ylabel(\"Count\")\n",
    "plt.title(\"Count of Intubed\")\n",
    "plt.show()"
   ]
  }
 ],
 "metadata": {
  "kernelspec": {
   "display_name": "Python 3",
   "language": "python",
   "name": "python3"
  },
  "language_info": {
   "codemirror_mode": {
    "name": "ipython",
    "version": 3
   },
   "file_extension": ".py",
   "mimetype": "text/x-python",
   "name": "python",
   "nbconvert_exporter": "python",
   "pygments_lexer": "ipython3",
   "version": "3.11.0"
  },
  "orig_nbformat": 4
 },
 "nbformat": 4,
 "nbformat_minor": 2
}
